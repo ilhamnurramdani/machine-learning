{
  "nbformat": 4,
  "nbformat_minor": 0,
  "metadata": {
    "colab": {
      "provenance": []
    },
    "kernelspec": {
      "name": "python3",
      "display_name": "Python 3"
    },
    "language_info": {
      "name": "python"
    }
  },
  "cells": [
    {
      "cell_type": "code",
      "source": [
        "import pandas as pd\n",
        "\n",
        "# Baca file Excel\n",
        "df = pd.read_excel('data.xlsx')\n",
        "\n",
        "# Transformasi data menjadi format lebar (wide format)\n",
        "pivot_data = df.pivot_table(\n",
        "    index=['Menu'],\n",
        "    columns=['Bulan', 'Tahun'],\n",
        "    values='Terjual',\n",
        "    aggfunc='sum',\n",
        "    fill_value=0\n",
        ")\n",
        "\n",
        "# Urutkan bulan dan tahun secara berurutan\n",
        "pivot_data = pivot_data.sort_index(axis=1, level=[1, 0])\n",
        "\n",
        "# Tambahkan kolom 'Jumlah' untuk total penjualan\n",
        "pivot_data['Jumlah'] = pivot_data.sum(axis=1)\n",
        "\n",
        "# Hitung persentil 50 dan 75 untuk penentuan kategori\n",
        "percentile_50 = pivot_data['Jumlah'].quantile(0.50)\n",
        "percentile_75 = pivot_data['Jumlah'].quantile(0.75)\n",
        "\n",
        "# Fungsi untuk menentukan kategori\n",
        "def categorize_sales(value):\n",
        "    if value > percentile_75:\n",
        "        return 'Paling Laris'\n",
        "    elif value > percentile_50:\n",
        "        return 'Laris'\n",
        "    else:\n",
        "        return 'Kurang Laris'\n",
        "\n",
        "# Tambahkan kolom 'Kategori'\n",
        "pivot_data['Kategori'] = pivot_data['Jumlah'].apply(categorize_sales)\n",
        "\n",
        "# Definisikan bulan untuk data latih dan uji\n",
        "train_months = [\n",
        "    ('September', 2022), ('Oktober', 2022), ('November', 2022), ('Desember', 2022),\n",
        "    ('Januari', 2023), ('Februari', 2023), ('Maret', 2023),\n",
        "    ('September', 2023), ('Oktober', 2023), ('November', 2023), ('Desember', 2023),\n",
        "    ('Januari', 2024), ('Februari', 2024), ('Maret', 2024)\n",
        "]\n",
        "\n",
        "test_months = [\n",
        "    ('April', 2024), ('Mei', 2024), ('Juni', 2024),\n",
        "    ('Juli', 2024), ('Agustus', 2024)\n",
        "]\n",
        "\n",
        "# Ekstrak data latih dan uji\n",
        "train_data = pivot_data[train_months + [('Kategori', '')]].copy()\n",
        "test_data = pivot_data[test_months].copy()\n",
        "\n",
        "# Reset indeks untuk kejelasan\n",
        "train_data.reset_index(inplace=True)\n",
        "test_data.reset_index(inplace=True)\n",
        "\n",
        "# Ratakan (flatten) kolom MultiIndex\n",
        "train_data.columns = ['_'.join(map(str, col)) if isinstance(col, tuple) else col for col in train_data.columns]\n",
        "test_data.columns = ['_'.join(map(str, col)) if isinstance(col, tuple) else col for col in test_data.columns]\n",
        "\n",
        "# Simpan data latih dan uji ke file Excel terpisah\n",
        "train_file = \"train_data.xlsx\"\n",
        "test_file = \"test_data.xlsx\"\n",
        "\n",
        "train_data.to_excel(train_file, index=False, sheet_name='Training Data')\n",
        "test_data.to_excel(test_file, index=False, sheet_name='Test Data')\n",
        "\n",
        "print(f\"Data latih berhasil diekspor ke: {train_file}\")\n",
        "print(f\"Data uji berhasil diekspor ke: {test_file}\")\n"
      ],
      "metadata": {
        "colab": {
          "base_uri": "https://localhost:8080/"
        },
        "id": "VNLn0e4mEAou",
        "outputId": "77dea6c6-d973-4f9c-ddfb-00269b20c7f1"
      },
      "execution_count": null,
      "outputs": [
        {
          "output_type": "stream",
          "name": "stdout",
          "text": [
            "Data latih berhasil diekspor ke: train_data.xlsx\n",
            "Data uji berhasil diekspor ke: test_data.xlsx\n"
          ]
        }
      ]
    },
    {
      "cell_type": "code",
      "source": [
        "import pandas as pd\n",
        "from sklearn.neighbors import KNeighborsClassifier\n",
        "from sklearn.metrics import classification_report, confusion_matrix, accuracy_score\n",
        "\n",
        "# 1. Load Data\n",
        "train_data = pd.read_excel(\"train_data.xlsx\")\n",
        "test_data = pd.read_excel(\"test_data.xlsx\")\n",
        "\n",
        "# 2. Preprocessing: Pisahkan fitur dan target\n",
        "X_train = train_data.drop(columns=['Menu_', 'Kategori_'], errors='ignore')  # Fitur\n",
        "y_train = train_data['Kategori_']  # Target\n",
        "\n",
        "# 3. Pastikan fitur data uji sesuai dengan fitur data latih\n",
        "X_test = test_data.drop(columns=['Menu_'], errors='ignore')\n",
        "X_test = X_test.reindex(columns=X_train.columns, fill_value=0)  # Samakan kolom dan isi yang hilang dengan 0\n",
        "\n",
        "# 4. Inisialisasi dan Latih Model KNN\n",
        "knn = KNeighborsClassifier(n_neighbors=5)\n",
        "knn.fit(X_train, y_train)\n",
        "\n",
        "# 5. Prediksi Kategori untuk Data Uji\n",
        "y_test_pred = knn.predict(X_test)\n",
        "test_data['Kategori_Prediksi'] = y_test_pred\n",
        "\n",
        "# 6. Evaluasi Model dengan Data Latih\n",
        "y_train_pred = knn.predict(X_train)\n",
        "print(\"Confusion Matrix:\\n\", confusion_matrix(y_train, y_train_pred))\n",
        "print(\"\\nClassification Report:\\n\", classification_report(y_train, y_train_pred))\n",
        "print(f\"Accuracy: {accuracy_score(y_train, y_train_pred) * 100:.2f}%\")\n",
        "\n",
        "# 7. Simpan Hasil Prediksi\n",
        "test_data_file = \"test_data_with_predictions.xlsx\"\n",
        "test_data.to_excel(test_data_file, index=False, sheet_name='Test Data with Predictions')\n",
        "\n",
        "print(f\"Hasil prediksi disimpan di: {test_data_file}\")\n"
      ],
      "metadata": {
        "colab": {
          "base_uri": "https://localhost:8080/"
        },
        "id": "mHZQ25KuEEcp",
        "outputId": "ce5ef60a-a5ba-431c-a05a-260364476fa7"
      },
      "execution_count": null,
      "outputs": [
        {
          "output_type": "stream",
          "name": "stdout",
          "text": [
            "Confusion Matrix:\n",
            " [[12  1  0]\n",
            " [ 3  3  0]\n",
            " [ 0  1  6]]\n",
            "\n",
            "Classification Report:\n",
            "               precision    recall  f1-score   support\n",
            "\n",
            "Kurang Laris       0.80      0.92      0.86        13\n",
            "       Laris       0.60      0.50      0.55         6\n",
            "Paling Laris       1.00      0.86      0.92         7\n",
            "\n",
            "    accuracy                           0.81        26\n",
            "   macro avg       0.80      0.76      0.78        26\n",
            "weighted avg       0.81      0.81      0.80        26\n",
            "\n",
            "Accuracy: 80.77%\n",
            "Hasil prediksi disimpan di: test_data_with_predictions.xlsx\n"
          ]
        }
      ]
    },
    {
      "cell_type": "markdown",
      "source": [
        "Interpretasi:\n",
        "\n",
        "Kurang Laris (Baris 1):\n",
        "*   12 data Kurang Laris diprediksi benar.\n",
        "*   1 data Kurang Laris salah diprediksi sebagai Laris.\n",
        "\n",
        "Laris (Baris 2):\n",
        "*   3 data Laris salah diprediksi sebagai Kurang Laris.\n",
        "*   3 data Laris diprediksi dengan benar.\n",
        "\n",
        "Paling Laris (Baris 3):\n",
        "*   6 data Paling Laris diprediksi dengan benar.\n",
        "*   1 data Paling Laris salah diprediksi sebagai Laris\n",
        "\n",
        "Penjelasan Metrik:\n",
        "\n",
        "Precision:\n",
        "*   Proporsi prediksi benar dari total prediksi untuk kelas tertentu.\n",
        "*   Contoh: Precision Kurang Laris = 0.80 → Dari semua prediksi \"Kurang Laris\", 80% benar.\n",
        "\n",
        "Recall:\n",
        "*   Proporsi data benar yang berhasil diprediksi dengan tepat.\n",
        "*   Contoh: Recall Kurang Laris = 0.92 → Dari semua data Kurang Laris, 92% berhasil diprediksi benar.\n",
        "\n",
        "F1-Score:\n",
        "*   Rata-rata harmonis antara precision dan recall, berguna jika ada ketidakseimbangan kelas.\n",
        "*   Contoh: F1-score Kurang Laris = 0.86 → Model bekerja cukup baik untuk kelas ini.\n",
        "\n",
        "Support:\n",
        "*   Jumlah data untuk setiap kategori di dataset.\n",
        "*   Contoh: Ada 13 data Kurang Laris, 6 data Laris, dan 7 data Paling Laris.\n",
        "\n",
        "\n",
        "\n",
        "\n",
        "\n"
      ],
      "metadata": {
        "id": "FOK8Z5ErOBhp"
      }
    }
  ]
}